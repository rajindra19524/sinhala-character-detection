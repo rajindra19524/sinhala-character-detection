{
 "cells": [
  {
   "cell_type": "code",
   "execution_count": 1,
   "id": "dd7c5cf7-486c-4e7a-a1ef-48d9aa118661",
   "metadata": {},
   "outputs": [
    {
     "name": "stdout",
     "output_type": "stream",
     "text": [
      "Requirement already satisfied: opencv-python in c:\\users\\asus\\anaconda3\\lib\\site-packages (4.11.0.86)\n",
      "Requirement already satisfied: numpy>=1.21.2 in c:\\users\\asus\\anaconda3\\lib\\site-packages (from opencv-python) (1.26.4)\n"
     ]
    }
   ],
   "source": [
    "import os \n",
    "import numpy as np\n",
    "!pip install opencv-python"
   ]
  },
  {
   "cell_type": "code",
   "execution_count": 3,
   "id": "5ecf57f5-af23-4cd0-b957-b97231d6173c",
   "metadata": {},
   "outputs": [],
   "source": [
    "data_path = 'dataset'"
   ]
  },
  {
   "cell_type": "code",
   "execution_count": 5,
   "id": "57ef4867-867d-4109-b4ca-2513916eeec3",
   "metadata": {},
   "outputs": [
    {
     "name": "stdout",
     "output_type": "stream",
     "text": [
      "['a', 'ae', 'e', 'u']\n"
     ]
    }
   ],
   "source": [
    "categories = os.listdir(data_path)\n",
    "print(categories)"
   ]
  },
  {
   "cell_type": "code",
   "execution_count": 7,
   "id": "ee75645c-17d8-4741-bd77-55d8f05296ab",
   "metadata": {},
   "outputs": [
    {
     "name": "stdout",
     "output_type": "stream",
     "text": [
      "[0, 1, 2, 3]\n"
     ]
    }
   ],
   "source": [
    "labels = [i for i in range (len(categories))]\n",
    "print(labels)"
   ]
  },
  {
   "cell_type": "code",
   "execution_count": 13,
   "id": "a76f3fbf-fb51-4c33-ac40-2c44c92aafa6",
   "metadata": {},
   "outputs": [
    {
     "name": "stdout",
     "output_type": "stream",
     "text": [
      "{'a': 0, 'ae': 1, 'e': 2, 'u': 3}\n"
     ]
    }
   ],
   "source": [
    "category_dict = {'a':0,'ae':1,'e':2,'u':3}\n",
    "print(category_dict)"
   ]
  },
  {
   "cell_type": "code",
   "execution_count": 9,
   "id": "f4cbea73-6d0e-492a-af7c-c8c8bfb2bc72",
   "metadata": {},
   "outputs": [],
   "source": [
    "import cv2\n",
    "\n",
    "data = []\n",
    "target = []"
   ]
  },
  {
   "cell_type": "code",
   "execution_count": 15,
   "id": "28315360-a83e-43ef-98f5-0782c9f4eb4d",
   "metadata": {},
   "outputs": [
    {
     "name": "stdout",
     "output_type": "stream",
     "text": [
      "dataset\\a\n",
      "['0.jpg', '1.jpg', '1.png', '10.jpg', '10.png', '11.png', '12.png', '13.png', '14.png', '15.png', '16.png', '17.png', '18.png', '19.png', '2.jpg', '2.png', '20.png', '21.png', '22.png', '23.png', '24.png', '25.png', '26.png', '27.png', '28.png', '29.png', '3.jpg', '3.png', '30.png', '31.png', '32.png', '33.png', '34.png', '35.png', '36.png', '37.png', '38.png', '39.png', '4.jpg', '4.png', '40.png', '41.png', '42.png', '43.png', '44.png', '45.png', '46.png', '47.png', '48.png', '49.png', '5.jpg', '5.png', '50.png', '51.png', '52.png', '53.png', '54.png', '55.png', '56.png', '57.png', '58.png', '59.png', '6.jpg', '6.png', '60.png', '7.jpg', '7.png', '8.jpg', '8.png', '9.jpg', '9.png']\n",
      "-------------------\n",
      "dataset\\ae\n",
      "['11.jpg', '12.jpg', '13.jpg', '14.jpg', '1462.png', '1463.png', '1464.png', '1465.png', '1466.png', '1467.png', '1469.png', '1470.png', '1471.png', '1472.png', '1473.png', '15.jpg', '16.jpg', '17.jpg', '18.jpg', '19.jpg', '20.jpg', '21.jpg', '22.jpg', '23.jpg', '24.jpg', '25.jpg', '26.jpg', '27.jpg', '28.jpg', '29.jpg', '30.jpg', '42.png', '43.png', '44.png', '45.png', '46.png', '47.png', '48.png', '49.png', '494.png', '495.png', '496.png', '497.png', '498.png', '499.png', '50.png', '501.png', '502.png', '503.png', '504.png', '505.png', '51.png', '52.png', '972.png', '973.png', '974.png', '975.png', '976.png', '977.png', '979.png', '981.png', '982.png', '984.png', '985.png']\n",
      "-------------------\n",
      "dataset\\e\n",
      "['1.png', '10.png', '11.png', '12.png', '13.png', '14.png', '15.png', '16.png', '17.png', '18.png', '19.png', '2.png', '20.png', '21.png', '22.png', '23.png', '24.png', '25.png', '26.png', '27.png', '28.png', '29.png', '3.png', '30.png', '31.jpg', '31.png', '32.jpg', '32.png', '33.jpg', '33.png', '34.jpg', '34.png', '35.jpg', '35.png', '36.jpg', '36.png', '37.jpg', '37.png', '38.jpg', '38.png', '39.jpg', '39.png', '4.png', '40.jpg', '40.png', '41.jpg', '41.png', '42.jpg', '42.png', '43.jpg', '43.png', '44.jpg', '44.png', '45.jpg', '46.jpg', '47.jpg', '48.jpg', '49.jpg', '5.png', '50.jpg', '51.jpg', '52.jpg', '53.jpg', '54.jpg', '55.jpg', '56.jpg', '57.jpg', '6.png', '7.png', '8.png', '9.png']\n",
      "-------------------\n",
      "dataset\\u\n",
      "['1.png', '10.png', '11.png', '12.png', '13.png', '14.png', '15.png', '16.png', '17.png', '18.png', '19.png', '2.png', '20.png', '21.png', '22.png', '23.png', '24.png', '25.png', '26.png', '27.png', '28.png', '29.png', '3.png', '30.png', '31.png', '32.png', '33.png', '34.png', '35.png', '36.png', '37.png', '38.png', '39.png', '4.png', '40.png', '41.png', '42.png', '43.png', '44.png', '5.png', '58.jpg', '59.jpg', '6.png', '60.jpg', '61.jpg', '62.jpg', '63.jpg', '64.jpg', '65.jpg', '66.jpg', '67.jpg', '68.jpg', '69.jpg', '7.png', '70.jpg', '71.jpg', '72.jpg', '73.jpg', '74.jpg', '75.jpg', '76.jpg', '77.jpg', '8.png', '9.png']\n",
      "-------------------\n"
     ]
    }
   ],
   "source": [
    "for category in categories:\n",
    "    imgs_path = os.path.join(data_path,category)\n",
    "    print(imgs_path)\n",
    "    img_names = os.listdir(imgs_path)\n",
    "    print(img_names)\n",
    "    print('-------------------')\n",
    "    for img_name in img_names:\n",
    "        img_path = os.path.join(imgs_path,img_name)\n",
    "        img = cv2.imread(img_path,0)\n",
    "        img = cv2.resize(img,(8,8))\n",
    "        data.append(img)\n",
    "        target.append(category_dict[category])\n",
    "   "
   ]
  },
  {
   "cell_type": "code",
   "execution_count": 17,
   "id": "18fb07ac-2e90-4bae-89a3-4561caf7c314",
   "metadata": {},
   "outputs": [
    {
     "name": "stdout",
     "output_type": "stream",
     "text": [
      "271 270\n"
     ]
    }
   ],
   "source": [
    "print(len(data),len(target))"
   ]
  },
  {
   "cell_type": "code",
   "execution_count": 19,
   "id": "dc3c479a-8e1e-401f-923b-10e002459dc9",
   "metadata": {},
   "outputs": [
    {
     "name": "stdout",
     "output_type": "stream",
     "text": [
      "before resize:  (271, 8, 8)\n"
     ]
    }
   ],
   "source": [
    "data = np.array(data)\n",
    "print('before resize: ',data.shape)"
   ]
  },
  {
   "cell_type": "code",
   "execution_count": 21,
   "id": "7d8b2852-1059-4c13-ba28-32e3397507f6",
   "metadata": {},
   "outputs": [
    {
     "name": "stdout",
     "output_type": "stream",
     "text": [
      "before resize:  (270,)\n"
     ]
    }
   ],
   "source": [
    "target = np.array(target)\n",
    "print('before resize: ',target.shape)"
   ]
  },
  {
   "cell_type": "code",
   "execution_count": 23,
   "id": "4b03d2db-ee95-4b80-ad68-20babc8202e3",
   "metadata": {},
   "outputs": [
    {
     "name": "stdout",
     "output_type": "stream",
     "text": [
      "after resize:  (271, 64)\n"
     ]
    }
   ],
   "source": [
    "data = data.reshape(data.shape[0],data.shape[1]*data.shape[2])\n",
    "print('after resize: ',data.shape)"
   ]
  },
  {
   "cell_type": "code",
   "execution_count": 25,
   "id": "c1758e6a-0917-4396-b934-acaf6039e862",
   "metadata": {},
   "outputs": [],
   "source": [
    "np.save('data ',data)\n",
    "np.save('target ',target)"
   ]
  },
  {
   "cell_type": "code",
   "execution_count": null,
   "id": "4112adbd-f22a-450f-8d85-0ba2f4e9170f",
   "metadata": {},
   "outputs": [],
   "source": []
  }
 ],
 "metadata": {
  "kernelspec": {
   "display_name": "Python [conda env:base] *",
   "language": "python",
   "name": "conda-base-py"
  },
  "language_info": {
   "codemirror_mode": {
    "name": "ipython",
    "version": 3
   },
   "file_extension": ".py",
   "mimetype": "text/x-python",
   "name": "python",
   "nbconvert_exporter": "python",
   "pygments_lexer": "ipython3",
   "version": "3.12.7"
  }
 },
 "nbformat": 4,
 "nbformat_minor": 5
}
