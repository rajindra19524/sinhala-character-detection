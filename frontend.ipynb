{
 "cells": [
  {
   "cell_type": "code",
   "execution_count": 19,
   "id": "75318021-5266-4e2b-ae0c-ce0c1168da9a",
   "metadata": {},
   "outputs": [],
   "source": [
    "import tkinter as tk\n",
    "win = tk.Tk()\n",
    "width=500\n",
    "height=500\n",
    "\n",
    "font_btn='Helvetica 20 bold'\n",
    "font_label='Helvetica 22 bold'\n",
    "\n",
    "count = 0\n",
    "\n",
    "def event_function(event):\n",
    "    x = event.x\n",
    "    y = event.y\n",
    "\n",
    "    x1 = x - 30\n",
    "    x2 = x + 30\n",
    "\n",
    "    y1 = y - 30\n",
    "    y2 = y + 30\n",
    "\n",
    "    canvas.create_oval((x1,y1,x2,y2),fill='BLACK')\n",
    "    img_draw.ellipse((x1,y1,x2,y2),fill='BLACK')\n",
    "\n",
    "def save():\n",
    "    global count \n",
    "    img_array = np.array(img)\n",
    "    path = os.path.join('data',str(count)+'.jpg')\n",
    "    cv2.imwrite(path,img_array)\n",
    "    count = count + 1\n",
    "\n",
    "def clear():\n",
    "    global img,img_draw\n",
    "    canvas.delete('all')\n",
    "    img = Image.new('RGB',(width,height),(255,255,255))\n",
    "    img_draw = ImageDraw.Draw(img)\n",
    "\n",
    "canvas = tk.Canvas(win,width=width,height=height,bg='white')\n",
    "canvas.grid(row=0,column=0,columnspan=4)\n",
    "\n",
    "button_save = tk.Button(win,text='SAVE',bg='green',font=font_btn,command=save)\n",
    "button_save.grid(row=1,column=0)\n",
    "\n",
    "button_predict = tk.Button(win,text='PREDICT',bg='blue',font=font_btn)\n",
    "button_predict.grid(row=1,column=1)\n",
    "\n",
    "button_clear = tk.Button(win,text='CLEAR',bg='yellow',font=font_btn,command=clear)\n",
    "button_clear.grid(row=1,column=2)\n",
    "\n",
    "button_exit = tk.Button(win,text='EXIT',bg='red',font=font_btn,c)\n",
    "button_exit.grid(row=1,column=3)\n",
    "\n",
    "label_status = tk.Label(win,text='PREDICT CHARACTER: NONE',bg='white',font=font_label)\n",
    "label_status.grid(row=2,column=0,columnspan=4)\n",
    "\n",
    "canvas.bind('<B1-Motion>',event_function)\n",
    "win.mainloop()"
   ]
  },
  {
   "cell_type": "code",
   "execution_count": 25,
   "id": "f94158e3-877a-4fbb-99f6-2859a35bae41",
   "metadata": {},
   "outputs": [
    {
     "name": "stdout",
     "output_type": "stream",
     "text": [
      "Requirement already satisfied: pillow in c:\\users\\asus\\anaconda3\\lib\\site-packages (10.4.0)\n",
      "Note: you may need to restart the kernel to use updated packages.\n"
     ]
    }
   ],
   "source": [
    "pip install pillow"
   ]
  },
  {
   "cell_type": "code",
   "execution_count": 13,
   "id": "4e3add43-d4d9-488c-8c8b-555548c1b95d",
   "metadata": {},
   "outputs": [],
   "source": [
    "from PIL import ImageTk,Image,ImageDraw"
   ]
  },
  {
   "cell_type": "code",
   "execution_count": 15,
   "id": "05552b73-e9b6-4163-b621-dbd1912d40e8",
   "metadata": {},
   "outputs": [],
   "source": [
    "img = Image.new('RGB',(width,height),(255,255,255))\n",
    "img_draw = ImageDraw.Draw(img)"
   ]
  },
  {
   "cell_type": "code",
   "execution_count": 3,
   "id": "d4e01637-1a44-4df9-b77d-28b5a21e39b8",
   "metadata": {},
   "outputs": [],
   "source": [
    "import numpy as np"
   ]
  },
  {
   "cell_type": "code",
   "execution_count": 5,
   "id": "da9bb2ff-b388-488c-aa81-611b6c8294de",
   "metadata": {},
   "outputs": [],
   "source": [
    "import cv2"
   ]
  },
  {
   "cell_type": "code",
   "execution_count": 7,
   "id": "3fd2ef6b-0806-4243-b882-0873bf252da1",
   "metadata": {},
   "outputs": [],
   "source": [
    "import os"
   ]
  },
  {
   "cell_type": "code",
   "execution_count": null,
   "id": "281f2dc4-483a-4256-989d-da1bc3f7cff7",
   "metadata": {},
   "outputs": [],
   "source": []
  }
 ],
 "metadata": {
  "kernelspec": {
   "display_name": "Python [conda env:base] *",
   "language": "python",
   "name": "conda-base-py"
  },
  "language_info": {
   "codemirror_mode": {
    "name": "ipython",
    "version": 3
   },
   "file_extension": ".py",
   "mimetype": "text/x-python",
   "name": "python",
   "nbconvert_exporter": "python",
   "pygments_lexer": "ipython3",
   "version": "3.12.7"
  }
 },
 "nbformat": 4,
 "nbformat_minor": 5
}
