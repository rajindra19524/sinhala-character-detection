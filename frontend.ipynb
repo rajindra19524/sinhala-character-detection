{
 "cells": [
  {
   "cell_type": "code",
   "execution_count": 1,
   "id": "75318021-5266-4e2b-ae0c-ce0c1168da9a",
   "metadata": {},
   "outputs": [],
   "source": [
    "import tkinter as tk\n",
    "win = tk.Tk()\n",
    "width=500\n",
    "height=500\n",
    "canvas = tk.Canvas(win,width=width,height=height,bg='white')\n",
    "canvas.grid(row=0,column=0)\n",
    "win.mainloop()"
   ]
  },
  {
   "cell_type": "code",
   "execution_count": null,
   "id": "f94158e3-877a-4fbb-99f6-2859a35bae41",
   "metadata": {},
   "outputs": [],
   "source": []
  }
 ],
 "metadata": {
  "kernelspec": {
   "display_name": "Python [conda env:base] *",
   "language": "python",
   "name": "conda-base-py"
  },
  "language_info": {
   "codemirror_mode": {
    "name": "ipython",
    "version": 3
   },
   "file_extension": ".py",
   "mimetype": "text/x-python",
   "name": "python",
   "nbconvert_exporter": "python",
   "pygments_lexer": "ipython3",
   "version": "3.12.7"
  }
 },
 "nbformat": 4,
 "nbformat_minor": 5
}
